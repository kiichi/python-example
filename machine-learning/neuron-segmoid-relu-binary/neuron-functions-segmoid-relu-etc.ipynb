{
 "cells": [
  {
   "cell_type": "code",
   "execution_count": 26,
   "metadata": {
    "collapsed": true
   },
   "outputs": [],
   "source": [
    "# Simple Examples \n",
    "# Coursera Week 1 or \n",
    "# Understanding Activation Functions in Neural Networks - https://medium.com/the-theory-of-everything/understanding-activation-functions-in-neural-networks-9491262884e0\n",
    "import numpy as np"
   ]
  },
  {
   "cell_type": "code",
   "execution_count": 27,
   "metadata": {},
   "outputs": [
    {
     "name": "stdout",
     "output_type": "stream",
     "text": [
      "x: [ 2 -1  1] w: [1.  0.5 0. ] b: 0.5\n"
     ]
    }
   ],
   "source": [
    "# neuron output would be calculated \n",
    "# e.g.\n",
    "# y = b + x*w\n",
    "\n",
    "x = np.array([2,-1,1])\n",
    "w = np.array([1,0.5,0])\n",
    "b = 0.5\n",
    "print('x:',x, 'w:',w, 'b:',b)"
   ]
  },
  {
   "cell_type": "code",
   "execution_count": 21,
   "metadata": {},
   "outputs": [
    {
     "name": "stdout",
     "output_type": "stream",
     "text": [
      "y: 3.0\n"
     ]
    }
   ],
   "source": [
    "# linear\n",
    "y = (b + x * w).sum()\n",
    "print('y:',y)"
   ]
  },
  {
   "cell_type": "code",
   "execution_count": 22,
   "metadata": {},
   "outputs": [
    {
     "name": "stdout",
     "output_type": "stream",
     "text": [
      "y: 1\n"
     ]
    }
   ],
   "source": [
    "# binary - if it reaches 1, return true which is 1. otherwise 0.\n",
    "y = ((b + x * w) >= 1).sum()\n",
    "print('y:',y)"
   ]
  },
  {
   "cell_type": "code",
   "execution_count": 23,
   "metadata": {},
   "outputs": [
    {
     "name": "stdout",
     "output_type": "stream",
     "text": [
      "y: 3.0\n"
     ]
    }
   ],
   "source": [
    "# relu - rectified linear unit ... sumdge out negative. output is nonlinear\n",
    "y = np.maximum(b + x * w,0).sum()\n",
    "print('y:',y)"
   ]
  },
  {
   "cell_type": "code",
   "execution_count": 24,
   "metadata": {},
   "outputs": [
    {
     "name": "stdout",
     "output_type": "stream",
     "text": [
      "y: 0.953398848819389\n"
     ]
    }
   ],
   "source": [
    "# sigmoid - smooth out between 0 and 1. output is nonlinear.\n",
    "yp = b + x * w\n",
    "y = (1/(1+np.power(np.e,yp))).sum()\n",
    "print('y:',y)"
   ]
  },
  {
   "cell_type": "code",
   "execution_count": 25,
   "metadata": {},
   "outputs": [
    {
     "name": "stdout",
     "output_type": "stream",
     "text": [
      "loss: 0.0010858336456790825\n"
     ]
    }
   ],
   "source": [
    "# also let's assume actual target value of y is 1\n",
    "ya = 1 \n",
    "\n",
    "# loss\n",
    "loss = 0.5 * np.square(ya - y)\n",
    "print('loss:',loss)"
   ]
  }
 ],
 "metadata": {
  "kernelspec": {
   "display_name": "Python 3",
   "language": "python",
   "name": "python3"
  },
  "language_info": {
   "codemirror_mode": {
    "name": "ipython",
    "version": 3
   },
   "file_extension": ".py",
   "mimetype": "text/x-python",
   "name": "python",
   "nbconvert_exporter": "python",
   "pygments_lexer": "ipython3",
   "version": "3.6.1"
  }
 },
 "nbformat": 4,
 "nbformat_minor": 2
}
