{
 "cells": [
  {
   "cell_type": "code",
   "execution_count": 1,
   "metadata": {},
   "outputs": [
    {
     "data": {
      "text/plain": [
       "<matplotlib.figure.Figure at 0x1145c6390>"
      ]
     },
     "execution_count": 1,
     "metadata": {},
     "output_type": "execute_result"
    },
    {
     "data": {
      "text/plain": [
       "<matplotlib.figure.Figure at 0x1145c6390>"
      ]
     },
     "metadata": {},
     "output_type": "display_data"
    }
   ],
   "source": [
    "# EXAMPLE FROM \n",
    "# https://pytorch.org/tutorials/beginner/pytorch_with_examples.html#examples\n",
    "# Before running build data from\n",
    "# https://github.com/kiichi/mnist-csv-png\n",
    "# or Unzip mnist.csv.zip\n",
    "\n",
    "import numpy as np\n",
    "import matplotlib\n",
    "import matplotlib.pyplot as plt\n",
    "import csv\n",
    "\n",
    "matplotlib.style.use('ggplot')\n",
    "%matplotlib inline\n",
    "plt.figure()"
   ]
  },
  {
   "cell_type": "code",
   "execution_count": 6,
   "metadata": {},
   "outputs": [],
   "source": [
    "def loadData(filename):\n",
    "    x = list()\n",
    "    y = list()\n",
    "    with open(filename, 'r') as csvfile:\n",
    "        creader = csv.reader(csvfile, delimiter=',')\n",
    "        for row in creader:\n",
    "            # First column is the label / answer\n",
    "            fig = row[0]\n",
    "            # The rest of columns are pixcel data\n",
    "            pix = np.array(row[1:]).astype('int')\n",
    "            x.append(pix)\n",
    "            z = np.zeros(10)\n",
    "            z[int(fig)] = 1 # flag the one for the answer\n",
    "            y.append(np.array([z]))\n",
    "    return np.array(x),np.array(y)"
   ]
  },
  {
   "cell_type": "code",
   "execution_count": 3,
   "metadata": {
    "collapsed": true
   },
   "outputs": [],
   "source": [
    "def renderFig(arr):\n",
    "    pix = arr.reshape(28,28)\n",
    "#    plt.title('num:' + fig)\n",
    "    plt.imshow(pix,cmap='gray')"
   ]
  },
  {
   "cell_type": "code",
   "execution_count": 7,
   "metadata": {
    "collapsed": true
   },
   "outputs": [],
   "source": [
    "file = '/Users/kiichitakeuchi/Downloads/mnist-csv-png-master/mnist_train.csv'\n",
    "x,y = loadData(file)"
   ]
  },
  {
   "cell_type": "markdown",
   "metadata": {},
   "source": [
    "# Train two hidden layers with backpropagation"
   ]
  },
  {
   "cell_type": "code",
   "execution_count": 27,
   "metadata": {},
   "outputs": [
    {
     "name": "stdout",
     "output_type": "stream",
     "text": [
      "epoch index : loss - predicted v.s actual\n"
     ]
    }
   ],
   "source": [
    "# pick some random number for weight \n",
    "w1 = np.random.randn(784,100)\n",
    "w2 = np.random.randn(100,10)\n",
    "\n",
    "i = 0\n",
    "learning_rate = 1e-6\n",
    "\n",
    "print('epoch index : loss - predicted v.s actual')\n",
    "\n",
    "# Run 100 Epochs\n",
    "for t in range(100):\n",
    "    # Pick 100 items to train\n",
    "    for i in range(300,400):\n",
    "        x_data = np.array([x[i]])\n",
    "        y_data = y[i] #np.array([y[i]])\n",
    "        \n",
    "        # Get Prediction result and calculate loss\n",
    "        h = x_data.dot(w1)\n",
    "        h_relu = np.maximum(h, 0)\n",
    "        \n",
    "        y_pred = h_relu.dot(w2)\n",
    "        y_pred = np.maximum(y_pred, 0)\n",
    "        \n",
    "        # Loss calculation. how far from the real results?\n",
    "        if y_pred.sum() <= 0:\n",
    "            continue\n",
    "            \n",
    "        y_pred = y_pred / y_pred.sum() # normalize it total of end result is always 1\n",
    "        loss = np.square(y_pred - y_data).sum()\n",
    "        #print(y_pred)\n",
    "        if t % 10 == 0 and i < 10:\n",
    "            print(t,i,':',loss, '-',np.argmax(y_pred),'v.s', np.argmax(y_data))\n",
    "\n",
    "        # Backprop to compute gradients of w1 and w2 with respect to loss\n",
    "        grad_y_pred = 2.0 * (y_pred - y_data)\n",
    "        grad_w2 = h_relu.T.dot(grad_y_pred)\n",
    "        grad_h_relu = grad_y_pred.dot(w2.T)\n",
    "        grad_h = grad_h_relu.copy()\n",
    "        grad_h[h < 0] = 0\n",
    "        grad_w1 = x_data.T.dot(grad_h)\n",
    "        # Update weights\n",
    "        w1 -= learning_rate * grad_w1\n",
    "        w2 -= learning_rate * grad_w2"
   ]
  },
  {
   "cell_type": "code",
   "execution_count": 33,
   "metadata": {},
   "outputs": [
    {
     "name": "stdout",
     "output_type": "stream",
     "text": [
      "=============== testing =============\n",
      "6000 0.390516253321 6  should be  6  -  yes\n",
      "6100 0.738009556157 7  should be  9  -  no\n",
      "6200 0.60676196932 3  should be  5  -  no\n",
      "6300 0.448196724136 5  should be  5  -  yes\n",
      "6400 0.244856834859 0  should be  0  -  yes\n",
      "6500 0.453958111966 3  should be  3  -  yes\n",
      "6600 0.855745601824 9  should be  7  -  no\n",
      "6700 0.404924387589 0  should be  0  -  yes\n",
      "6800 0.457349824046 6  should be  6  -  yes\n",
      "6900 0.274132927717 1  should be  1  -  yes\n",
      "=============== overall accuracy =============\n",
      "0 87.8787878788 %\n",
      "1 98.2300884956 %\n",
      "2 77.6595744681 %\n",
      "3 50.0 %\n",
      "4 83.8709677419 %\n",
      "5 30.2083333333 %\n",
      "6 81.1881188119 %\n",
      "7 76.6990291262 %\n",
      "8 57.5757575758 %\n",
      "9 74.4680851064 %\n"
     ]
    }
   ],
   "source": [
    "#renderFig(x[11])\n",
    "# 0, 11, 35, 47, 65, 100, 132, 138, 145\n",
    "correct = np.zeros(10)\n",
    "totals = np.zeros(10)\n",
    "\n",
    "print('=============== testing =============')\n",
    "\n",
    "# Test 1000 items \n",
    "for idx in range(6000,7000):\n",
    "    x_test = np.array([x[idx]])\n",
    "    y_test = np.array([y[idx]])\n",
    "    h = x_test.dot(w1)\n",
    "    h_relu = np.maximum(h, 0)\n",
    "    y_pred = h_relu.dot(w2)\n",
    "    # Loss calculation. how far from the real results?\n",
    "    #y_pred[y_pred<0] = 0 # remove negative\n",
    "    y_pred = np.maximum(y_pred, 0)\n",
    "    y_pred = y_pred / y_pred.sum() # normalize it total of end result is always 1\n",
    "    loss = np.square(y_pred - y_test).sum()\n",
    "    pnum = np.argmax(y_pred)\n",
    "    anum = np.argmax(y_test)    \n",
    "    result = 'no'\n",
    "    totals[anum] = totals[anum] + 1\n",
    "    if pnum == anum:\n",
    "        correct[anum] = correct[anum] + 1\n",
    "        result = 'yes'\n",
    "    if idx%100==0:\n",
    "        print(idx, loss, pnum,' should be ',anum,' - ', result)\n",
    "print('=============== overall accuracy =============')\n",
    "n = 0\n",
    "for c in correct:    \n",
    "    print(n, 100*correct[n]/totals[n],'%')\n",
    "    n = n + 1"
   ]
  },
  {
   "cell_type": "markdown",
   "metadata": {},
   "source": [
    "## Visual Check"
   ]
  },
  {
   "cell_type": "code",
   "execution_count": 35,
   "metadata": {},
   "outputs": [
    {
     "data": {
      "image/png": "[encoded data removed]",
      "text/plain": [
       "<matplotlib.figure.Figure at 0x1185bb080>"
      ]
     },
     "metadata": {},
     "output_type": "display_data"
    }
   ],
   "source": [
    "renderFig(x[6300])"
   ]
  }
 ],
 "metadata": {
  "kernelspec": {
   "display_name": "Python 3",
   "language": "python",
   "name": "python3"
  },
  "language_info": {
   "codemirror_mode": {
    "name": "ipython",
    "version": 3
   },
   "file_extension": ".py",
   "mimetype": "text/x-python",
   "name": "python",
   "nbconvert_exporter": "python",
   "pygments_lexer": "ipython3",
   "version": "3.6.1"
  }
 },
 "nbformat": 4,
 "nbformat_minor": 2
}
