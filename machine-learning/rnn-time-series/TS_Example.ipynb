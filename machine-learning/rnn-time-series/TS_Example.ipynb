{
 "cells": [
  {
   "cell_type": "code",
   "execution_count": 1,
   "metadata": {},
   "outputs": [
    {
     "data": {
      "text/plain": [
       "'3.6.5 |Anaconda custom (64-bit)| (default, Apr 26 2018, 08:42:37) \\n[GCC 4.2.1 Compatible Clang 4.0.1 (tags/RELEASE_401/final)]'"
      ]
     },
     "execution_count": 1,
     "metadata": {},
     "output_type": "execute_result"
    }
   ],
   "source": [
    "#What are we working with?\n",
    "import sys\n",
    "sys.version"
   ]
  },
  {
   "cell_type": "code",
   "execution_count": 2,
   "metadata": {},
   "outputs": [
    {
     "name": "stderr",
     "output_type": "stream",
     "text": [
      "/Users/kiichitakeuchi/anaconda3/lib/python3.6/site-packages/h5py/__init__.py:36: FutureWarning: Conversion of the second argument of issubdtype from `float` to `np.floating` is deprecated. In future, it will be treated as `np.float64 == np.dtype(float).type`.\n",
      "  from ._conv import register_converters as _register_converters\n"
     ]
    }
   ],
   "source": [
    "import tensorflow as tf\n",
    "import pandas as pd\n",
    "import numpy as np\n",
    "import os\n",
    "import matplotlib\n",
    "import matplotlib.pyplot as plt\n",
    "import random\n",
    "%matplotlib inline\n",
    "import tensorflow as tf\n",
    "import shutil\n",
    "import tensorflow.contrib.learn as tflearn\n",
    "import tensorflow.contrib.layers as tflayers\n",
    "from tensorflow.contrib.learn.python.learn import learn_runner\n",
    "import tensorflow.contrib.metrics as metrics\n",
    "import tensorflow.contrib.rnn as rnn"
   ]
  },
  {
   "cell_type": "code",
   "execution_count": 3,
   "metadata": {},
   "outputs": [
    {
     "data": {
      "image/png": "[encoded data removed]",
      "text/plain": [
       "<Figure size 432x288 with 1 Axes>"
      ]
     },
     "metadata": {},
     "output_type": "display_data"
    },
    {
     "data": {
      "text/plain": [
       "2000-01-31    -9.965375\n",
       "2000-02-29   -19.518037\n",
       "2000-03-31   -21.908157\n",
       "2000-04-30   -30.793623\n",
       "2000-05-31   -27.552547\n",
       "2000-06-30   -35.394879\n",
       "2000-07-31   -27.302085\n",
       "2000-08-31   -27.305714\n",
       "2000-09-30   -24.364985\n",
       "2000-10-31   -16.770250\n",
       "Freq: M, dtype: float64"
      ]
     },
     "execution_count": 3,
     "metadata": {},
     "output_type": "execute_result"
    }
   ],
   "source": [
    "random.seed(111)\n",
    "rng = pd.date_range(start='2000', periods=209, freq='M')\n",
    "ts = pd.Series(np.random.uniform(-10, 10, size=len(rng)), rng).cumsum()\n",
    "ts.plot(c='b', title='Example Time Series')\n",
    "plt.show()\n",
    "ts.head(10)"
   ]
  },
  {
   "cell_type": "code",
   "execution_count": 4,
   "metadata": {},
   "outputs": [
    {
     "name": "stdout",
     "output_type": "stream",
     "text": [
      "10\n",
      "(10, 20, 1)\n",
      "[[[ -9.9653752 ]\n",
      "  [-19.51803689]\n",
      "  [-21.90815653]\n",
      "  [-30.79362259]\n",
      "  [-27.55254715]\n",
      "  [-35.39487898]\n",
      "  [-27.30208532]\n",
      "  [-27.30571423]\n",
      "  [-24.36498514]\n",
      "  [-16.77025003]\n",
      "  [-13.93448038]\n",
      "  [ -8.25117066]\n",
      "  [ -7.77510367]\n",
      "  [ -8.08885365]\n",
      "  [ -9.64233349]\n",
      "  [ -8.78095003]\n",
      "  [-10.13288462]\n",
      "  [ -0.74768517]\n",
      "  [ -8.14362261]\n",
      "  [ -2.65600368]]\n",
      "\n",
      " [[ -3.19708674]\n",
      "  [ -0.4771589 ]\n",
      "  [  5.63285904]\n",
      "  [  5.26624626]\n",
      "  [ 13.4068288 ]\n",
      "  [  7.8898418 ]\n",
      "  [  9.40430241]\n",
      "  [ 14.91020426]\n",
      "  [  7.84449213]\n",
      "  [  9.05279212]\n",
      "  [ 17.12745771]\n",
      "  [ 26.92503601]\n",
      "  [ 24.20186703]\n",
      "  [ 21.38806589]\n",
      "  [ 28.3030114 ]\n",
      "  [ 36.02243186]\n",
      "  [ 31.31428022]\n",
      "  [ 27.04098546]\n",
      "  [ 24.65212319]\n",
      "  [ 16.13503562]]]\n",
      "[[[-19.51803689]\n",
      "  [-21.90815653]\n",
      "  [-30.79362259]\n",
      "  [-27.55254715]\n",
      "  [-35.39487898]\n",
      "  [-27.30208532]\n",
      "  [-27.30571423]\n",
      "  [-24.36498514]\n",
      "  [-16.77025003]\n",
      "  [-13.93448038]\n",
      "  [ -8.25117066]\n",
      "  [ -7.77510367]\n",
      "  [ -8.08885365]\n",
      "  [ -9.64233349]\n",
      "  [ -8.78095003]\n",
      "  [-10.13288462]\n",
      "  [ -0.74768517]\n",
      "  [ -8.14362261]\n",
      "  [ -2.65600368]\n",
      "  [ -3.19708674]]]\n",
      "(10, 20, 1)\n"
     ]
    }
   ],
   "source": [
    "TS = np.array(ts)\n",
    "num_periods = 20\n",
    "f_horizon = 1  #forecast horizon, one period into the future\n",
    "\n",
    "x_data = TS[:(len(TS)-(len(TS) % num_periods))]\n",
    "x_batches = x_data.reshape(-1, 20, 1)\n",
    "\n",
    "y_data = TS[1:(len(TS)-(len(TS) % num_periods))+f_horizon]\n",
    "y_batches = y_data.reshape(-1, 20, 1)\n",
    "print (len(x_batches))\n",
    "print (x_batches.shape)\n",
    "print (x_batches[0:2])\n",
    "\n",
    "print (y_batches[0:1])\n",
    "print (y_batches.shape)"
   ]
  },
  {
   "cell_type": "code",
   "execution_count": 5,
   "metadata": {},
   "outputs": [
    {
     "name": "stdout",
     "output_type": "stream",
     "text": [
      "(1, 20, 1)\n",
      "[[[25.32510257]\n",
      "  [15.54342897]\n",
      "  [22.7404514 ]\n",
      "  [19.46396776]\n",
      "  [21.9187604 ]\n",
      "  [18.34555509]\n",
      "  [13.04301011]\n",
      "  [22.26239491]\n",
      "  [26.42859875]\n",
      "  [30.96249332]\n",
      "  [35.85038825]\n",
      "  [45.25144765]\n",
      "  [47.42670196]\n",
      "  [46.74272159]\n",
      "  [40.13237963]\n",
      "  [37.57615957]\n",
      "  [44.79455532]\n",
      "  [39.75397016]\n",
      "  [37.00964331]\n",
      "  [41.90993581]]]\n"
     ]
    }
   ],
   "source": [
    "def test_data(series,forecast,num_periods):\n",
    "    test_x_setup = TS[-(num_periods + forecast):]\n",
    "    testX = test_x_setup[:num_periods].reshape(-1, 20, 1)\n",
    "    testY = TS[-(num_periods):].reshape(-1, 20, 1)\n",
    "    return testX,testY\n",
    "\n",
    "X_test, Y_test = test_data(TS,f_horizon,num_periods )\n",
    "print (X_test.shape)\n",
    "print (X_test)"
   ]
  },
  {
   "cell_type": "code",
   "execution_count": 6,
   "metadata": {},
   "outputs": [],
   "source": [
    "tf.reset_default_graph()   #We didn't have any previous graph objects running, but this would reset the graphs\n",
    "\n",
    "num_periods = 20      #number of periods per vector we are using to predict one period ahead\n",
    "inputs = 1            #number of vectors submitted\n",
    "hidden = 100          #number of neurons we will recursively work through, can be changed to improve accuracy\n",
    "output = 1            #number of output vectors\n",
    "\n",
    "X = tf.placeholder(tf.float32, [None, num_periods, inputs])   #create variable objects\n",
    "y = tf.placeholder(tf.float32, [None, num_periods, output])\n",
    "\n",
    "\n",
    "basic_cell = tf.contrib.rnn.BasicRNNCell(num_units=hidden, activation=tf.nn.relu)   #create our RNN object\n",
    "rnn_output, states = tf.nn.dynamic_rnn(basic_cell, X, dtype=tf.float32)               #choose dynamic over static\n",
    "\n",
    "learning_rate = 0.001   #small learning rate so we don't overshoot the minimum\n",
    "\n",
    "stacked_rnn_output = tf.reshape(rnn_output, [-1, hidden])           #change the form into a tensor\n",
    "stacked_outputs = tf.layers.dense(stacked_rnn_output, output)        #specify the type of layer (dense)\n",
    "outputs = tf.reshape(stacked_outputs, [-1, num_periods, output])          #shape of results\n",
    " \n",
    "loss = tf.reduce_sum(tf.square(outputs - y))    #define the cost function which evaluates the quality of our model\n",
    "optimizer = tf.train.AdamOptimizer(learning_rate=learning_rate)          #gradient descent method\n",
    "training_op = optimizer.minimize(loss)          #train the result of the application of the cost_function                                 \n",
    "\n",
    "init = tf.global_variables_initializer()           #initialize all the variables"
   ]
  },
  {
   "cell_type": "code",
   "execution_count": 7,
   "metadata": {},
   "outputs": [
    {
     "name": "stdout",
     "output_type": "stream",
     "text": [
      "0 \tMSE: 187971.44\n",
      "100 \tMSE: 8601.579\n",
      "200 \tMSE: 4020.0276\n",
      "300 \tMSE: 2038.331\n",
      "400 \tMSE: 1321.2852\n",
      "500 \tMSE: 1002.1642\n",
      "600 \tMSE: 860.6615\n",
      "700 \tMSE: 848.9608\n",
      "800 \tMSE: 727.6947\n",
      "900 \tMSE: 717.9579\n",
      "[[[24.474257]\n",
      "  [16.316444]\n",
      "  [22.519249]\n",
      "  [17.558956]\n",
      "  [17.65352 ]\n",
      "  [17.61293 ]\n",
      "  [21.541897]\n",
      "  [24.531284]\n",
      "  [32.315746]\n",
      "  [39.679058]\n",
      "  [43.31959 ]\n",
      "  [48.826546]\n",
      "  [39.502556]\n",
      "  [36.848133]\n",
      "  [38.507366]\n",
      "  [26.264055]\n",
      "  [31.370525]\n",
      "  [35.911816]\n",
      "  [22.733192]\n",
      "  [37.239304]]]\n"
     ]
    }
   ],
   "source": [
    "epochs = 1000     #number of iterations or training cycles, includes both the FeedFoward and Backpropogation\n",
    "\n",
    "with tf.Session() as sess:\n",
    "    init.run()\n",
    "    for ep in range(epochs):\n",
    "        sess.run(training_op, feed_dict={X: x_batches, y: y_batches})\n",
    "        if ep % 100 == 0:\n",
    "            mse = loss.eval(feed_dict={X: x_batches, y: y_batches})\n",
    "            print(ep, \"\\tMSE:\", mse)\n",
    "    \n",
    "    y_pred = sess.run(outputs, feed_dict={X: X_test})\n",
    "    print(y_pred)"
   ]
  },
  {
   "cell_type": "code",
   "execution_count": 8,
   "metadata": {},
   "outputs": [
    {
     "data": {
      "image/png": "[encoded data removed]",
      "text/plain": [
       "<Figure size 432x288 with 1 Axes>"
      ]
     },
     "metadata": {},
     "output_type": "display_data"
    }
   ],
   "source": [
    "plt.title(\"Forecast vs Actual\", fontsize=14)\n",
    "plt.plot(pd.Series(np.ravel(Y_test)), \"bo\", markersize=10, label=\"Actual\")\n",
    "#plt.plot(pd.Series(np.ravel(Y_test)), \"w*\", markersize=10)\n",
    "plt.plot(pd.Series(np.ravel(y_pred)), \"r.\", markersize=10, label=\"Forecast\")\n",
    "plt.legend(loc=\"upper left\")\n",
    "plt.xlabel(\"Time Periods\")\n",
    "\n",
    "plt.show()"
   ]
  }
 ],
 "metadata": {
  "kernelspec": {
   "display_name": "Python 3",
   "language": "python",
   "name": "python3"
  },
  "language_info": {
   "codemirror_mode": {
    "name": "ipython",
    "version": 3
   },
   "file_extension": ".py",
   "mimetype": "text/x-python",
   "name": "python",
   "nbconvert_exporter": "python",
   "pygments_lexer": "ipython3",
   "version": "3.6.5"
  }
 },
 "nbformat": 4,
 "nbformat_minor": 2
}
